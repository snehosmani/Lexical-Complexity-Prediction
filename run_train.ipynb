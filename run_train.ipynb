{
 "cells": [
  {
   "cell_type": "markdown",
   "metadata": {
    "id": "U5-9GgjW-B6m"
   },
   "source": [
    "\n",
    "\n",
    "# Installing dependecies and loading data"
   ]
  },
  {
   "cell_type": "code",
   "execution_count": 1,
   "metadata": {
    "colab": {
     "base_uri": "https://localhost:8080/"
    },
    "id": "2gjwTFUh8Qoz",
    "outputId": "7fd593cc-1ac9-4b29-8cba-21549c5f87e7"
   },
   "outputs": [
    {
     "name": "stdout",
     "output_type": "stream",
     "text": [
      "Looking in indexes: https://pypi.org/simple, https://us-python.pkg.dev/colab-wheels/public/simple/\n",
      "Requirement already satisfied: numpy in /usr/local/lib/python3.10/dist-packages (from -r requirements.txt (line 1)) (1.22.4)\n",
      "Requirement already satisfied: pandas in /usr/local/lib/python3.10/dist-packages (from -r requirements.txt (line 2)) (1.5.3)\n",
      "Requirement already satisfied: tensorflow in /usr/local/lib/python3.10/dist-packages (from -r requirements.txt (line 3)) (2.12.0)\n",
      "Requirement already satisfied: keras in /usr/local/lib/python3.10/dist-packages (from -r requirements.txt (line 4)) (2.12.0)\n",
      "Collecting tokenizers\n",
      "  Downloading tokenizers-0.13.3-cp310-cp310-manylinux_2_17_x86_64.manylinux2014_x86_64.whl (7.8 MB)\n",
      "\u001b[2K     \u001b[90m━━━━━━━━━━━━━━━━━━━━━━━━━━━━━━━━━━━━━━━━\u001b[0m \u001b[32m7.8/7.8 MB\u001b[0m \u001b[31m24.6 MB/s\u001b[0m eta \u001b[36m0:00:00\u001b[0m\n",
      "\u001b[?25hRequirement already satisfied: scikit-learn in /usr/local/lib/python3.10/dist-packages (from -r requirements.txt (line 6)) (1.2.2)\n",
      "Collecting keras-tuner\n",
      "  Downloading keras_tuner-1.3.5-py3-none-any.whl (176 kB)\n",
      "\u001b[2K     \u001b[90m━━━━━━━━━━━━━━━━━━━━━━━━━━━━━━━━━━━━━━\u001b[0m \u001b[32m176.1/176.1 kB\u001b[0m \u001b[31m14.4 MB/s\u001b[0m eta \u001b[36m0:00:00\u001b[0m\n",
      "\u001b[?25hRequirement already satisfied: matplotlib in /usr/local/lib/python3.10/dist-packages (from -r requirements.txt (line 8)) (3.7.1)\n",
      "Requirement already satisfied: python-dateutil>=2.8.1 in /usr/local/lib/python3.10/dist-packages (from pandas->-r requirements.txt (line 2)) (2.8.2)\n",
      "Requirement already satisfied: pytz>=2020.1 in /usr/local/lib/python3.10/dist-packages (from pandas->-r requirements.txt (line 2)) (2022.7.1)\n",
      "Requirement already satisfied: wrapt<1.15,>=1.11.0 in /usr/local/lib/python3.10/dist-packages (from tensorflow->-r requirements.txt (line 3)) (1.14.1)\n",
      "Requirement already satisfied: astunparse>=1.6.0 in /usr/local/lib/python3.10/dist-packages (from tensorflow->-r requirements.txt (line 3)) (1.6.3)\n",
      "Requirement already satisfied: h5py>=2.9.0 in /usr/local/lib/python3.10/dist-packages (from tensorflow->-r requirements.txt (line 3)) (3.8.0)\n",
      "Requirement already satisfied: six>=1.12.0 in /usr/local/lib/python3.10/dist-packages (from tensorflow->-r requirements.txt (line 3)) (1.16.0)\n",
      "Requirement already satisfied: grpcio<2.0,>=1.24.3 in /usr/local/lib/python3.10/dist-packages (from tensorflow->-r requirements.txt (line 3)) (1.54.0)\n",
      "Requirement already satisfied: termcolor>=1.1.0 in /usr/local/lib/python3.10/dist-packages (from tensorflow->-r requirements.txt (line 3)) (2.3.0)\n",
      "Requirement already satisfied: tensorflow-io-gcs-filesystem>=0.23.1 in /usr/local/lib/python3.10/dist-packages (from tensorflow->-r requirements.txt (line 3)) (0.32.0)\n",
      "Requirement already satisfied: protobuf!=4.21.0,!=4.21.1,!=4.21.2,!=4.21.3,!=4.21.4,!=4.21.5,<5.0.0dev,>=3.20.3 in /usr/local/lib/python3.10/dist-packages (from tensorflow->-r requirements.txt (line 3)) (3.20.3)\n",
      "Requirement already satisfied: packaging in /usr/local/lib/python3.10/dist-packages (from tensorflow->-r requirements.txt (line 3)) (23.1)\n",
      "Requirement already satisfied: setuptools in /usr/local/lib/python3.10/dist-packages (from tensorflow->-r requirements.txt (line 3)) (67.7.2)\n",
      "Requirement already satisfied: flatbuffers>=2.0 in /usr/local/lib/python3.10/dist-packages (from tensorflow->-r requirements.txt (line 3)) (23.3.3)\n",
      "Requirement already satisfied: tensorflow-estimator<2.13,>=2.12.0 in /usr/local/lib/python3.10/dist-packages (from tensorflow->-r requirements.txt (line 3)) (2.12.0)\n",
      "Requirement already satisfied: tensorboard<2.13,>=2.12 in /usr/local/lib/python3.10/dist-packages (from tensorflow->-r requirements.txt (line 3)) (2.12.2)\n",
      "Requirement already satisfied: jax>=0.3.15 in /usr/local/lib/python3.10/dist-packages (from tensorflow->-r requirements.txt (line 3)) (0.4.8)\n",
      "Requirement already satisfied: opt-einsum>=2.3.2 in /usr/local/lib/python3.10/dist-packages (from tensorflow->-r requirements.txt (line 3)) (3.3.0)\n",
      "Requirement already satisfied: libclang>=13.0.0 in /usr/local/lib/python3.10/dist-packages (from tensorflow->-r requirements.txt (line 3)) (16.0.0)\n",
      "Requirement already satisfied: google-pasta>=0.1.1 in /usr/local/lib/python3.10/dist-packages (from tensorflow->-r requirements.txt (line 3)) (0.2.0)\n",
      "Requirement already satisfied: typing-extensions>=3.6.6 in /usr/local/lib/python3.10/dist-packages (from tensorflow->-r requirements.txt (line 3)) (4.5.0)\n",
      "Requirement already satisfied: gast<=0.4.0,>=0.2.1 in /usr/local/lib/python3.10/dist-packages (from tensorflow->-r requirements.txt (line 3)) (0.4.0)\n",
      "Requirement already satisfied: absl-py>=1.0.0 in /usr/local/lib/python3.10/dist-packages (from tensorflow->-r requirements.txt (line 3)) (1.4.0)\n",
      "Requirement already satisfied: threadpoolctl>=2.0.0 in /usr/local/lib/python3.10/dist-packages (from scikit-learn->-r requirements.txt (line 6)) (3.1.0)\n",
      "Requirement already satisfied: scipy>=1.3.2 in /usr/local/lib/python3.10/dist-packages (from scikit-learn->-r requirements.txt (line 6)) (1.10.1)\n",
      "Requirement already satisfied: joblib>=1.1.1 in /usr/local/lib/python3.10/dist-packages (from scikit-learn->-r requirements.txt (line 6)) (1.2.0)\n",
      "Collecting kt-legacy\n",
      "  Downloading kt_legacy-1.0.5-py3-none-any.whl (9.6 kB)\n",
      "Requirement already satisfied: requests in /usr/local/lib/python3.10/dist-packages (from keras-tuner->-r requirements.txt (line 7)) (2.27.1)\n",
      "Requirement already satisfied: contourpy>=1.0.1 in /usr/local/lib/python3.10/dist-packages (from matplotlib->-r requirements.txt (line 8)) (1.0.7)\n",
      "Requirement already satisfied: cycler>=0.10 in /usr/local/lib/python3.10/dist-packages (from matplotlib->-r requirements.txt (line 8)) (0.11.0)\n",
      "Requirement already satisfied: pyparsing>=2.3.1 in /usr/local/lib/python3.10/dist-packages (from matplotlib->-r requirements.txt (line 8)) (3.0.9)\n",
      "Requirement already satisfied: fonttools>=4.22.0 in /usr/local/lib/python3.10/dist-packages (from matplotlib->-r requirements.txt (line 8)) (4.39.3)\n",
      "Requirement already satisfied: pillow>=6.2.0 in /usr/local/lib/python3.10/dist-packages (from matplotlib->-r requirements.txt (line 8)) (8.4.0)\n",
      "Requirement already satisfied: kiwisolver>=1.0.1 in /usr/local/lib/python3.10/dist-packages (from matplotlib->-r requirements.txt (line 8)) (1.4.4)\n",
      "Requirement already satisfied: wheel<1.0,>=0.23.0 in /usr/local/lib/python3.10/dist-packages (from astunparse>=1.6.0->tensorflow->-r requirements.txt (line 3)) (0.40.0)\n",
      "Requirement already satisfied: ml-dtypes>=0.0.3 in /usr/local/lib/python3.10/dist-packages (from jax>=0.3.15->tensorflow->-r requirements.txt (line 3)) (0.1.0)\n",
      "Requirement already satisfied: markdown>=2.6.8 in /usr/local/lib/python3.10/dist-packages (from tensorboard<2.13,>=2.12->tensorflow->-r requirements.txt (line 3)) (3.4.3)\n",
      "Requirement already satisfied: tensorboard-plugin-wit>=1.6.0 in /usr/local/lib/python3.10/dist-packages (from tensorboard<2.13,>=2.12->tensorflow->-r requirements.txt (line 3)) (1.8.1)\n",
      "Requirement already satisfied: tensorboard-data-server<0.8.0,>=0.7.0 in /usr/local/lib/python3.10/dist-packages (from tensorboard<2.13,>=2.12->tensorflow->-r requirements.txt (line 3)) (0.7.0)\n",
      "Requirement already satisfied: google-auth<3,>=1.6.3 in /usr/local/lib/python3.10/dist-packages (from tensorboard<2.13,>=2.12->tensorflow->-r requirements.txt (line 3)) (2.17.3)\n",
      "Requirement already satisfied: werkzeug>=1.0.1 in /usr/local/lib/python3.10/dist-packages (from tensorboard<2.13,>=2.12->tensorflow->-r requirements.txt (line 3)) (2.3.0)\n",
      "Requirement already satisfied: google-auth-oauthlib<1.1,>=0.5 in /usr/local/lib/python3.10/dist-packages (from tensorboard<2.13,>=2.12->tensorflow->-r requirements.txt (line 3)) (1.0.0)\n",
      "Requirement already satisfied: idna<4,>=2.5 in /usr/local/lib/python3.10/dist-packages (from requests->keras-tuner->-r requirements.txt (line 7)) (3.4)\n",
      "Requirement already satisfied: urllib3<1.27,>=1.21.1 in /usr/local/lib/python3.10/dist-packages (from requests->keras-tuner->-r requirements.txt (line 7)) (1.26.15)\n",
      "Requirement already satisfied: certifi>=2017.4.17 in /usr/local/lib/python3.10/dist-packages (from requests->keras-tuner->-r requirements.txt (line 7)) (2022.12.7)\n",
      "Requirement already satisfied: charset-normalizer~=2.0.0 in /usr/local/lib/python3.10/dist-packages (from requests->keras-tuner->-r requirements.txt (line 7)) (2.0.12)\n",
      "Requirement already satisfied: cachetools<6.0,>=2.0.0 in /usr/local/lib/python3.10/dist-packages (from google-auth<3,>=1.6.3->tensorboard<2.13,>=2.12->tensorflow->-r requirements.txt (line 3)) (5.3.0)\n",
      "Requirement already satisfied: rsa<5,>=3.1.4 in /usr/local/lib/python3.10/dist-packages (from google-auth<3,>=1.6.3->tensorboard<2.13,>=2.12->tensorflow->-r requirements.txt (line 3)) (4.9)\n",
      "Requirement already satisfied: pyasn1-modules>=0.2.1 in /usr/local/lib/python3.10/dist-packages (from google-auth<3,>=1.6.3->tensorboard<2.13,>=2.12->tensorflow->-r requirements.txt (line 3)) (0.3.0)\n",
      "Requirement already satisfied: requests-oauthlib>=0.7.0 in /usr/local/lib/python3.10/dist-packages (from google-auth-oauthlib<1.1,>=0.5->tensorboard<2.13,>=2.12->tensorflow->-r requirements.txt (line 3)) (1.3.1)\n",
      "Requirement already satisfied: MarkupSafe>=2.1.1 in /usr/local/lib/python3.10/dist-packages (from werkzeug>=1.0.1->tensorboard<2.13,>=2.12->tensorflow->-r requirements.txt (line 3)) (2.1.2)\n",
      "Requirement already satisfied: pyasn1<0.6.0,>=0.4.6 in /usr/local/lib/python3.10/dist-packages (from pyasn1-modules>=0.2.1->google-auth<3,>=1.6.3->tensorboard<2.13,>=2.12->tensorflow->-r requirements.txt (line 3)) (0.5.0)\n",
      "Requirement already satisfied: oauthlib>=3.0.0 in /usr/local/lib/python3.10/dist-packages (from requests-oauthlib>=0.7.0->google-auth-oauthlib<1.1,>=0.5->tensorboard<2.13,>=2.12->tensorflow->-r requirements.txt (line 3)) (3.2.2)\n",
      "Installing collected packages: tokenizers, kt-legacy, keras-tuner\n",
      "Successfully installed keras-tuner-1.3.5 kt-legacy-1.0.5 tokenizers-0.13.3\n"
     ]
    }
   ],
   "source": [
    "!pip install -r requirements.txt\n",
    "#installing depedencies"
   ]
  },
  {
   "cell_type": "code",
   "execution_count": 21,
   "metadata": {
    "id": "QKxRfriL9uri"
   },
   "outputs": [],
   "source": [
    "#importing libraries\n",
    "import numpy as np\n",
    "import pandas as pd \n",
    "import tensorflow\n",
    "from tensorflow.keras.preprocessing.sequence import pad_sequences\n",
    "from keras.models import Model\n",
    "from keras.layers import Input, Embedding, LSTM, Dense, Dropout, concatenate, BatchNormalization\n",
    "from sklearn.model_selection import train_test_split\n",
    "from keras.preprocessing.text import Tokenizer\n",
    "from keras.losses import mean_absolute_error\n",
    "from sklearn.preprocessing import OneHotEncoder\n",
    "import keras_tuner as kt\n",
    "from keras_tuner.tuners import RandomSearch"
   ]
  },
  {
   "cell_type": "code",
   "execution_count": 3,
   "metadata": {
    "colab": {
     "base_uri": "https://localhost:8080/"
    },
    "id": "Nb5R5crE92Pr",
    "outputId": "f7af0b0d-d875-419c-c063-36c59a276a4c"
   },
   "outputs": [
    {
     "data": {
      "text/plain": [
       "[PhysicalDevice(name='/physical_device:GPU:0', device_type='GPU')]"
      ]
     },
     "execution_count": 3,
     "metadata": {},
     "output_type": "execute_result"
    }
   ],
   "source": [
    "tensorflow.config.list_physical_devices('GPU')\n",
    "#to configure GPU"
   ]
  },
  {
   "cell_type": "code",
   "execution_count": 4,
   "metadata": {
    "id": "ctIRYacP-MRK"
   },
   "outputs": [],
   "source": [
    "#load the dataset\n",
    "lcp_train = pd.read_csv(\"lcp_single_train.tsv.txt\", sep=\"\\t\")\n",
    "lcp_test=pd.read_csv(\"lcp_single_test.tsv.txt\", sep=\"\\t\")"
   ]
  },
  {
   "cell_type": "code",
   "execution_count": 5,
   "metadata": {
    "colab": {
     "base_uri": "https://localhost:8080/",
     "height": 206
    },
    "id": "PzvJtJaB-Taa",
    "outputId": "fc73fb11-c420-44f2-d8c8-ac8f2fd5eb00"
   },
   "outputs": [
    {
     "data": {
      "text/html": [
       "\n",
       "  <div id=\"df-be3798d1-32e5-4e04-92c6-c05f4d5265b7\">\n",
       "    <div class=\"colab-df-container\">\n",
       "      <div>\n",
       "<style scoped>\n",
       "    .dataframe tbody tr th:only-of-type {\n",
       "        vertical-align: middle;\n",
       "    }\n",
       "\n",
       "    .dataframe tbody tr th {\n",
       "        vertical-align: top;\n",
       "    }\n",
       "\n",
       "    .dataframe thead th {\n",
       "        text-align: right;\n",
       "    }\n",
       "</style>\n",
       "<table border=\"1\" class=\"dataframe\">\n",
       "  <thead>\n",
       "    <tr style=\"text-align: right;\">\n",
       "      <th></th>\n",
       "      <th>id</th>\n",
       "      <th>corpus</th>\n",
       "      <th>sentence</th>\n",
       "      <th>token</th>\n",
       "      <th>complexity</th>\n",
       "    </tr>\n",
       "  </thead>\n",
       "  <tbody>\n",
       "    <tr>\n",
       "      <th>0</th>\n",
       "      <td>3ZLW647WALVGE8EBR50EGUBPU4P32A</td>\n",
       "      <td>bible</td>\n",
       "      <td>Behold, there came up out of the river seven c...</td>\n",
       "      <td>river</td>\n",
       "      <td>0.000000</td>\n",
       "    </tr>\n",
       "    <tr>\n",
       "      <th>1</th>\n",
       "      <td>34R0BODSP1ZBN3DVY8J8XSIY551E5C</td>\n",
       "      <td>bible</td>\n",
       "      <td>I am a fellow bondservant with you and with yo...</td>\n",
       "      <td>brothers</td>\n",
       "      <td>0.000000</td>\n",
       "    </tr>\n",
       "    <tr>\n",
       "      <th>2</th>\n",
       "      <td>3S1WOPCJFGTJU2SGNAN2Y213N6WJE3</td>\n",
       "      <td>bible</td>\n",
       "      <td>The man, the lord of the land, said to us, 'By...</td>\n",
       "      <td>brothers</td>\n",
       "      <td>0.050000</td>\n",
       "    </tr>\n",
       "    <tr>\n",
       "      <th>3</th>\n",
       "      <td>3BFNCI9LYKQN09BHXHH9CLSX5KP738</td>\n",
       "      <td>bible</td>\n",
       "      <td>Shimei had sixteen sons and six daughters; but...</td>\n",
       "      <td>brothers</td>\n",
       "      <td>0.150000</td>\n",
       "    </tr>\n",
       "    <tr>\n",
       "      <th>4</th>\n",
       "      <td>3G5RUKN2EC3YIWSKUXZ8ZVH95R49N2</td>\n",
       "      <td>bible</td>\n",
       "      <td>He has put my brothers far from me.\\tbrothers\\...</td>\n",
       "      <td>sons</td>\n",
       "      <td>0.055556</td>\n",
       "    </tr>\n",
       "  </tbody>\n",
       "</table>\n",
       "</div>\n",
       "      <button class=\"colab-df-convert\" onclick=\"convertToInteractive('df-be3798d1-32e5-4e04-92c6-c05f4d5265b7')\"\n",
       "              title=\"Convert this dataframe to an interactive table.\"\n",
       "              style=\"display:none;\">\n",
       "        \n",
       "  <svg xmlns=\"http://www.w3.org/2000/svg\" height=\"24px\"viewBox=\"0 0 24 24\"\n",
       "       width=\"24px\">\n",
       "    <path d=\"M0 0h24v24H0V0z\" fill=\"none\"/>\n",
       "    <path d=\"M18.56 5.44l.94 2.06.94-2.06 2.06-.94-2.06-.94-.94-2.06-.94 2.06-2.06.94zm-11 1L8.5 8.5l.94-2.06 2.06-.94-2.06-.94L8.5 2.5l-.94 2.06-2.06.94zm10 10l.94 2.06.94-2.06 2.06-.94-2.06-.94-.94-2.06-.94 2.06-2.06.94z\"/><path d=\"M17.41 7.96l-1.37-1.37c-.4-.4-.92-.59-1.43-.59-.52 0-1.04.2-1.43.59L10.3 9.45l-7.72 7.72c-.78.78-.78 2.05 0 2.83L4 21.41c.39.39.9.59 1.41.59.51 0 1.02-.2 1.41-.59l7.78-7.78 2.81-2.81c.8-.78.8-2.07 0-2.86zM5.41 20L4 18.59l7.72-7.72 1.47 1.35L5.41 20z\"/>\n",
       "  </svg>\n",
       "      </button>\n",
       "      \n",
       "  <style>\n",
       "    .colab-df-container {\n",
       "      display:flex;\n",
       "      flex-wrap:wrap;\n",
       "      gap: 12px;\n",
       "    }\n",
       "\n",
       "    .colab-df-convert {\n",
       "      background-color: #E8F0FE;\n",
       "      border: none;\n",
       "      border-radius: 50%;\n",
       "      cursor: pointer;\n",
       "      display: none;\n",
       "      fill: #1967D2;\n",
       "      height: 32px;\n",
       "      padding: 0 0 0 0;\n",
       "      width: 32px;\n",
       "    }\n",
       "\n",
       "    .colab-df-convert:hover {\n",
       "      background-color: #E2EBFA;\n",
       "      box-shadow: 0px 1px 2px rgba(60, 64, 67, 0.3), 0px 1px 3px 1px rgba(60, 64, 67, 0.15);\n",
       "      fill: #174EA6;\n",
       "    }\n",
       "\n",
       "    [theme=dark] .colab-df-convert {\n",
       "      background-color: #3B4455;\n",
       "      fill: #D2E3FC;\n",
       "    }\n",
       "\n",
       "    [theme=dark] .colab-df-convert:hover {\n",
       "      background-color: #434B5C;\n",
       "      box-shadow: 0px 1px 3px 1px rgba(0, 0, 0, 0.15);\n",
       "      filter: drop-shadow(0px 1px 2px rgba(0, 0, 0, 0.3));\n",
       "      fill: #FFFFFF;\n",
       "    }\n",
       "  </style>\n",
       "\n",
       "      <script>\n",
       "        const buttonEl =\n",
       "          document.querySelector('#df-be3798d1-32e5-4e04-92c6-c05f4d5265b7 button.colab-df-convert');\n",
       "        buttonEl.style.display =\n",
       "          google.colab.kernel.accessAllowed ? 'block' : 'none';\n",
       "\n",
       "        async function convertToInteractive(key) {\n",
       "          const element = document.querySelector('#df-be3798d1-32e5-4e04-92c6-c05f4d5265b7');\n",
       "          const dataTable =\n",
       "            await google.colab.kernel.invokeFunction('convertToInteractive',\n",
       "                                                     [key], {});\n",
       "          if (!dataTable) return;\n",
       "\n",
       "          const docLinkHtml = 'Like what you see? Visit the ' +\n",
       "            '<a target=\"_blank\" href=https://colab.research.google.com/notebooks/data_table.ipynb>data table notebook</a>'\n",
       "            + ' to learn more about interactive tables.';\n",
       "          element.innerHTML = '';\n",
       "          dataTable['output_type'] = 'display_data';\n",
       "          await google.colab.output.renderOutput(dataTable, element);\n",
       "          const docLink = document.createElement('div');\n",
       "          docLink.innerHTML = docLinkHtml;\n",
       "          element.appendChild(docLink);\n",
       "        }\n",
       "      </script>\n",
       "    </div>\n",
       "  </div>\n",
       "  "
      ],
      "text/plain": [
       "                               id corpus  \\\n",
       "0  3ZLW647WALVGE8EBR50EGUBPU4P32A  bible   \n",
       "1  34R0BODSP1ZBN3DVY8J8XSIY551E5C  bible   \n",
       "2  3S1WOPCJFGTJU2SGNAN2Y213N6WJE3  bible   \n",
       "3  3BFNCI9LYKQN09BHXHH9CLSX5KP738  bible   \n",
       "4  3G5RUKN2EC3YIWSKUXZ8ZVH95R49N2  bible   \n",
       "\n",
       "                                            sentence     token  complexity  \n",
       "0  Behold, there came up out of the river seven c...     river    0.000000  \n",
       "1  I am a fellow bondservant with you and with yo...  brothers    0.000000  \n",
       "2  The man, the lord of the land, said to us, 'By...  brothers    0.050000  \n",
       "3  Shimei had sixteen sons and six daughters; but...  brothers    0.150000  \n",
       "4  He has put my brothers far from me.\\tbrothers\\...      sons    0.055556  "
      ]
     },
     "execution_count": 5,
     "metadata": {},
     "output_type": "execute_result"
    }
   ],
   "source": [
    "lcp_train.head()"
   ]
  },
  {
   "cell_type": "code",
   "execution_count": 6,
   "metadata": {
    "colab": {
     "base_uri": "https://localhost:8080/",
     "height": 300
    },
    "id": "AOAJD6cK-V46",
    "outputId": "f6074b23-3209-441e-eec4-5f8c5454f745"
   },
   "outputs": [
    {
     "data": {
      "text/html": [
       "\n",
       "  <div id=\"df-7de508ee-f586-492f-8633-aea41bf558c3\">\n",
       "    <div class=\"colab-df-container\">\n",
       "      <div>\n",
       "<style scoped>\n",
       "    .dataframe tbody tr th:only-of-type {\n",
       "        vertical-align: middle;\n",
       "    }\n",
       "\n",
       "    .dataframe tbody tr th {\n",
       "        vertical-align: top;\n",
       "    }\n",
       "\n",
       "    .dataframe thead th {\n",
       "        text-align: right;\n",
       "    }\n",
       "</style>\n",
       "<table border=\"1\" class=\"dataframe\">\n",
       "  <thead>\n",
       "    <tr style=\"text-align: right;\">\n",
       "      <th></th>\n",
       "      <th>complexity</th>\n",
       "    </tr>\n",
       "  </thead>\n",
       "  <tbody>\n",
       "    <tr>\n",
       "      <th>count</th>\n",
       "      <td>7232.000000</td>\n",
       "    </tr>\n",
       "    <tr>\n",
       "      <th>mean</th>\n",
       "      <td>0.301485</td>\n",
       "    </tr>\n",
       "    <tr>\n",
       "      <th>std</th>\n",
       "      <td>0.133091</td>\n",
       "    </tr>\n",
       "    <tr>\n",
       "      <th>min</th>\n",
       "      <td>0.000000</td>\n",
       "    </tr>\n",
       "    <tr>\n",
       "      <th>25%</th>\n",
       "      <td>0.210526</td>\n",
       "    </tr>\n",
       "    <tr>\n",
       "      <th>50%</th>\n",
       "      <td>0.277778</td>\n",
       "    </tr>\n",
       "    <tr>\n",
       "      <th>75%</th>\n",
       "      <td>0.371250</td>\n",
       "    </tr>\n",
       "    <tr>\n",
       "      <th>max</th>\n",
       "      <td>0.861111</td>\n",
       "    </tr>\n",
       "  </tbody>\n",
       "</table>\n",
       "</div>\n",
       "      <button class=\"colab-df-convert\" onclick=\"convertToInteractive('df-7de508ee-f586-492f-8633-aea41bf558c3')\"\n",
       "              title=\"Convert this dataframe to an interactive table.\"\n",
       "              style=\"display:none;\">\n",
       "        \n",
       "  <svg xmlns=\"http://www.w3.org/2000/svg\" height=\"24px\"viewBox=\"0 0 24 24\"\n",
       "       width=\"24px\">\n",
       "    <path d=\"M0 0h24v24H0V0z\" fill=\"none\"/>\n",
       "    <path d=\"M18.56 5.44l.94 2.06.94-2.06 2.06-.94-2.06-.94-.94-2.06-.94 2.06-2.06.94zm-11 1L8.5 8.5l.94-2.06 2.06-.94-2.06-.94L8.5 2.5l-.94 2.06-2.06.94zm10 10l.94 2.06.94-2.06 2.06-.94-2.06-.94-.94-2.06-.94 2.06-2.06.94z\"/><path d=\"M17.41 7.96l-1.37-1.37c-.4-.4-.92-.59-1.43-.59-.52 0-1.04.2-1.43.59L10.3 9.45l-7.72 7.72c-.78.78-.78 2.05 0 2.83L4 21.41c.39.39.9.59 1.41.59.51 0 1.02-.2 1.41-.59l7.78-7.78 2.81-2.81c.8-.78.8-2.07 0-2.86zM5.41 20L4 18.59l7.72-7.72 1.47 1.35L5.41 20z\"/>\n",
       "  </svg>\n",
       "      </button>\n",
       "      \n",
       "  <style>\n",
       "    .colab-df-container {\n",
       "      display:flex;\n",
       "      flex-wrap:wrap;\n",
       "      gap: 12px;\n",
       "    }\n",
       "\n",
       "    .colab-df-convert {\n",
       "      background-color: #E8F0FE;\n",
       "      border: none;\n",
       "      border-radius: 50%;\n",
       "      cursor: pointer;\n",
       "      display: none;\n",
       "      fill: #1967D2;\n",
       "      height: 32px;\n",
       "      padding: 0 0 0 0;\n",
       "      width: 32px;\n",
       "    }\n",
       "\n",
       "    .colab-df-convert:hover {\n",
       "      background-color: #E2EBFA;\n",
       "      box-shadow: 0px 1px 2px rgba(60, 64, 67, 0.3), 0px 1px 3px 1px rgba(60, 64, 67, 0.15);\n",
       "      fill: #174EA6;\n",
       "    }\n",
       "\n",
       "    [theme=dark] .colab-df-convert {\n",
       "      background-color: #3B4455;\n",
       "      fill: #D2E3FC;\n",
       "    }\n",
       "\n",
       "    [theme=dark] .colab-df-convert:hover {\n",
       "      background-color: #434B5C;\n",
       "      box-shadow: 0px 1px 3px 1px rgba(0, 0, 0, 0.15);\n",
       "      filter: drop-shadow(0px 1px 2px rgba(0, 0, 0, 0.3));\n",
       "      fill: #FFFFFF;\n",
       "    }\n",
       "  </style>\n",
       "\n",
       "      <script>\n",
       "        const buttonEl =\n",
       "          document.querySelector('#df-7de508ee-f586-492f-8633-aea41bf558c3 button.colab-df-convert');\n",
       "        buttonEl.style.display =\n",
       "          google.colab.kernel.accessAllowed ? 'block' : 'none';\n",
       "\n",
       "        async function convertToInteractive(key) {\n",
       "          const element = document.querySelector('#df-7de508ee-f586-492f-8633-aea41bf558c3');\n",
       "          const dataTable =\n",
       "            await google.colab.kernel.invokeFunction('convertToInteractive',\n",
       "                                                     [key], {});\n",
       "          if (!dataTable) return;\n",
       "\n",
       "          const docLinkHtml = 'Like what you see? Visit the ' +\n",
       "            '<a target=\"_blank\" href=https://colab.research.google.com/notebooks/data_table.ipynb>data table notebook</a>'\n",
       "            + ' to learn more about interactive tables.';\n",
       "          element.innerHTML = '';\n",
       "          dataTable['output_type'] = 'display_data';\n",
       "          await google.colab.output.renderOutput(dataTable, element);\n",
       "          const docLink = document.createElement('div');\n",
       "          docLink.innerHTML = docLinkHtml;\n",
       "          element.appendChild(docLink);\n",
       "        }\n",
       "      </script>\n",
       "    </div>\n",
       "  </div>\n",
       "  "
      ],
      "text/plain": [
       "        complexity\n",
       "count  7232.000000\n",
       "mean      0.301485\n",
       "std       0.133091\n",
       "min       0.000000\n",
       "25%       0.210526\n",
       "50%       0.277778\n",
       "75%       0.371250\n",
       "max       0.861111"
      ]
     },
     "execution_count": 6,
     "metadata": {},
     "output_type": "execute_result"
    }
   ],
   "source": [
    "lcp_train.describe()"
   ]
  },
  {
   "cell_type": "code",
   "execution_count": 7,
   "metadata": {
    "colab": {
     "base_uri": "https://localhost:8080/",
     "height": 206
    },
    "id": "Hb8nJzf--aOs",
    "outputId": "3e119228-2642-489e-ca10-18d00ef2d2fb"
   },
   "outputs": [
    {
     "data": {
      "text/html": [
       "\n",
       "  <div id=\"df-f0e769fa-283b-44b1-b2ac-6b72a6281acf\">\n",
       "    <div class=\"colab-df-container\">\n",
       "      <div>\n",
       "<style scoped>\n",
       "    .dataframe tbody tr th:only-of-type {\n",
       "        vertical-align: middle;\n",
       "    }\n",
       "\n",
       "    .dataframe tbody tr th {\n",
       "        vertical-align: top;\n",
       "    }\n",
       "\n",
       "    .dataframe thead th {\n",
       "        text-align: right;\n",
       "    }\n",
       "</style>\n",
       "<table border=\"1\" class=\"dataframe\">\n",
       "  <thead>\n",
       "    <tr style=\"text-align: right;\">\n",
       "      <th></th>\n",
       "      <th>id</th>\n",
       "      <th>corpus</th>\n",
       "      <th>sentence</th>\n",
       "      <th>token</th>\n",
       "      <th>complexity</th>\n",
       "    </tr>\n",
       "  </thead>\n",
       "  <tbody>\n",
       "    <tr>\n",
       "      <th>0</th>\n",
       "      <td>3K8CQCU3KE19US5SN890DFPK3SANWR</td>\n",
       "      <td>bible</td>\n",
       "      <td>But he, beckoning to them with his hand to be ...</td>\n",
       "      <td>hand</td>\n",
       "      <td>0.000000</td>\n",
       "    </tr>\n",
       "    <tr>\n",
       "      <th>1</th>\n",
       "      <td>3Q2T3FD0ON86LCI41NJYV3PN0BW3MV</td>\n",
       "      <td>bible</td>\n",
       "      <td>If I forget you, Jerusalem, let my right hand ...</td>\n",
       "      <td>hand</td>\n",
       "      <td>0.197368</td>\n",
       "    </tr>\n",
       "    <tr>\n",
       "      <th>2</th>\n",
       "      <td>3ULIZ0H1VA5C32JJMKOTQ8Z4GUS51B</td>\n",
       "      <td>bible</td>\n",
       "      <td>the ten sons of Haman the son of Hammedatha, t...</td>\n",
       "      <td>hand</td>\n",
       "      <td>0.200000</td>\n",
       "    </tr>\n",
       "    <tr>\n",
       "      <th>3</th>\n",
       "      <td>3BFF0DJK8XCEIOT30ZLBPPSRMZQTSD</td>\n",
       "      <td>bible</td>\n",
       "      <td>Let your hand be lifted up above your adversar...</td>\n",
       "      <td>hand</td>\n",
       "      <td>0.267857</td>\n",
       "    </tr>\n",
       "    <tr>\n",
       "      <th>4</th>\n",
       "      <td>3QREJ3J433XSBS8QMHAICCR0BQ1LKR</td>\n",
       "      <td>bible</td>\n",
       "      <td>Abimelech chased him, and he fled before him, ...</td>\n",
       "      <td>entrance</td>\n",
       "      <td>0.000000</td>\n",
       "    </tr>\n",
       "  </tbody>\n",
       "</table>\n",
       "</div>\n",
       "      <button class=\"colab-df-convert\" onclick=\"convertToInteractive('df-f0e769fa-283b-44b1-b2ac-6b72a6281acf')\"\n",
       "              title=\"Convert this dataframe to an interactive table.\"\n",
       "              style=\"display:none;\">\n",
       "        \n",
       "  <svg xmlns=\"http://www.w3.org/2000/svg\" height=\"24px\"viewBox=\"0 0 24 24\"\n",
       "       width=\"24px\">\n",
       "    <path d=\"M0 0h24v24H0V0z\" fill=\"none\"/>\n",
       "    <path d=\"M18.56 5.44l.94 2.06.94-2.06 2.06-.94-2.06-.94-.94-2.06-.94 2.06-2.06.94zm-11 1L8.5 8.5l.94-2.06 2.06-.94-2.06-.94L8.5 2.5l-.94 2.06-2.06.94zm10 10l.94 2.06.94-2.06 2.06-.94-2.06-.94-.94-2.06-.94 2.06-2.06.94z\"/><path d=\"M17.41 7.96l-1.37-1.37c-.4-.4-.92-.59-1.43-.59-.52 0-1.04.2-1.43.59L10.3 9.45l-7.72 7.72c-.78.78-.78 2.05 0 2.83L4 21.41c.39.39.9.59 1.41.59.51 0 1.02-.2 1.41-.59l7.78-7.78 2.81-2.81c.8-.78.8-2.07 0-2.86zM5.41 20L4 18.59l7.72-7.72 1.47 1.35L5.41 20z\"/>\n",
       "  </svg>\n",
       "      </button>\n",
       "      \n",
       "  <style>\n",
       "    .colab-df-container {\n",
       "      display:flex;\n",
       "      flex-wrap:wrap;\n",
       "      gap: 12px;\n",
       "    }\n",
       "\n",
       "    .colab-df-convert {\n",
       "      background-color: #E8F0FE;\n",
       "      border: none;\n",
       "      border-radius: 50%;\n",
       "      cursor: pointer;\n",
       "      display: none;\n",
       "      fill: #1967D2;\n",
       "      height: 32px;\n",
       "      padding: 0 0 0 0;\n",
       "      width: 32px;\n",
       "    }\n",
       "\n",
       "    .colab-df-convert:hover {\n",
       "      background-color: #E2EBFA;\n",
       "      box-shadow: 0px 1px 2px rgba(60, 64, 67, 0.3), 0px 1px 3px 1px rgba(60, 64, 67, 0.15);\n",
       "      fill: #174EA6;\n",
       "    }\n",
       "\n",
       "    [theme=dark] .colab-df-convert {\n",
       "      background-color: #3B4455;\n",
       "      fill: #D2E3FC;\n",
       "    }\n",
       "\n",
       "    [theme=dark] .colab-df-convert:hover {\n",
       "      background-color: #434B5C;\n",
       "      box-shadow: 0px 1px 3px 1px rgba(0, 0, 0, 0.15);\n",
       "      filter: drop-shadow(0px 1px 2px rgba(0, 0, 0, 0.3));\n",
       "      fill: #FFFFFF;\n",
       "    }\n",
       "  </style>\n",
       "\n",
       "      <script>\n",
       "        const buttonEl =\n",
       "          document.querySelector('#df-f0e769fa-283b-44b1-b2ac-6b72a6281acf button.colab-df-convert');\n",
       "        buttonEl.style.display =\n",
       "          google.colab.kernel.accessAllowed ? 'block' : 'none';\n",
       "\n",
       "        async function convertToInteractive(key) {\n",
       "          const element = document.querySelector('#df-f0e769fa-283b-44b1-b2ac-6b72a6281acf');\n",
       "          const dataTable =\n",
       "            await google.colab.kernel.invokeFunction('convertToInteractive',\n",
       "                                                     [key], {});\n",
       "          if (!dataTable) return;\n",
       "\n",
       "          const docLinkHtml = 'Like what you see? Visit the ' +\n",
       "            '<a target=\"_blank\" href=https://colab.research.google.com/notebooks/data_table.ipynb>data table notebook</a>'\n",
       "            + ' to learn more about interactive tables.';\n",
       "          element.innerHTML = '';\n",
       "          dataTable['output_type'] = 'display_data';\n",
       "          await google.colab.output.renderOutput(dataTable, element);\n",
       "          const docLink = document.createElement('div');\n",
       "          docLink.innerHTML = docLinkHtml;\n",
       "          element.appendChild(docLink);\n",
       "        }\n",
       "      </script>\n",
       "    </div>\n",
       "  </div>\n",
       "  "
      ],
      "text/plain": [
       "                               id corpus  \\\n",
       "0  3K8CQCU3KE19US5SN890DFPK3SANWR  bible   \n",
       "1  3Q2T3FD0ON86LCI41NJYV3PN0BW3MV  bible   \n",
       "2  3ULIZ0H1VA5C32JJMKOTQ8Z4GUS51B  bible   \n",
       "3  3BFF0DJK8XCEIOT30ZLBPPSRMZQTSD  bible   \n",
       "4  3QREJ3J433XSBS8QMHAICCR0BQ1LKR  bible   \n",
       "\n",
       "                                            sentence     token  complexity  \n",
       "0  But he, beckoning to them with his hand to be ...      hand    0.000000  \n",
       "1  If I forget you, Jerusalem, let my right hand ...      hand    0.197368  \n",
       "2  the ten sons of Haman the son of Hammedatha, t...      hand    0.200000  \n",
       "3  Let your hand be lifted up above your adversar...      hand    0.267857  \n",
       "4  Abimelech chased him, and he fled before him, ...  entrance    0.000000  "
      ]
     },
     "execution_count": 7,
     "metadata": {},
     "output_type": "execute_result"
    }
   ],
   "source": [
    "lcp_test.head()"
   ]
  },
  {
   "cell_type": "code",
   "execution_count": 8,
   "metadata": {
    "colab": {
     "base_uri": "https://localhost:8080/",
     "height": 300
    },
    "id": "2aCkQC_q-cIC",
    "outputId": "b847b6cb-2338-48a5-fca2-896f471409b8"
   },
   "outputs": [
    {
     "data": {
      "text/html": [
       "\n",
       "  <div id=\"df-7e82a8dc-bf3f-4b91-8917-359f343427c4\">\n",
       "    <div class=\"colab-df-container\">\n",
       "      <div>\n",
       "<style scoped>\n",
       "    .dataframe tbody tr th:only-of-type {\n",
       "        vertical-align: middle;\n",
       "    }\n",
       "\n",
       "    .dataframe tbody tr th {\n",
       "        vertical-align: top;\n",
       "    }\n",
       "\n",
       "    .dataframe thead th {\n",
       "        text-align: right;\n",
       "    }\n",
       "</style>\n",
       "<table border=\"1\" class=\"dataframe\">\n",
       "  <thead>\n",
       "    <tr style=\"text-align: right;\">\n",
       "      <th></th>\n",
       "      <th>complexity</th>\n",
       "    </tr>\n",
       "  </thead>\n",
       "  <tbody>\n",
       "    <tr>\n",
       "      <th>count</th>\n",
       "      <td>887.000000</td>\n",
       "    </tr>\n",
       "    <tr>\n",
       "      <th>mean</th>\n",
       "      <td>0.298403</td>\n",
       "    </tr>\n",
       "    <tr>\n",
       "      <th>std</th>\n",
       "      <td>0.128126</td>\n",
       "    </tr>\n",
       "    <tr>\n",
       "      <th>min</th>\n",
       "      <td>0.000000</td>\n",
       "    </tr>\n",
       "    <tr>\n",
       "      <th>25%</th>\n",
       "      <td>0.214286</td>\n",
       "    </tr>\n",
       "    <tr>\n",
       "      <th>50%</th>\n",
       "      <td>0.277778</td>\n",
       "    </tr>\n",
       "    <tr>\n",
       "      <th>75%</th>\n",
       "      <td>0.360243</td>\n",
       "    </tr>\n",
       "    <tr>\n",
       "      <th>max</th>\n",
       "      <td>0.777778</td>\n",
       "    </tr>\n",
       "  </tbody>\n",
       "</table>\n",
       "</div>\n",
       "      <button class=\"colab-df-convert\" onclick=\"convertToInteractive('df-7e82a8dc-bf3f-4b91-8917-359f343427c4')\"\n",
       "              title=\"Convert this dataframe to an interactive table.\"\n",
       "              style=\"display:none;\">\n",
       "        \n",
       "  <svg xmlns=\"http://www.w3.org/2000/svg\" height=\"24px\"viewBox=\"0 0 24 24\"\n",
       "       width=\"24px\">\n",
       "    <path d=\"M0 0h24v24H0V0z\" fill=\"none\"/>\n",
       "    <path d=\"M18.56 5.44l.94 2.06.94-2.06 2.06-.94-2.06-.94-.94-2.06-.94 2.06-2.06.94zm-11 1L8.5 8.5l.94-2.06 2.06-.94-2.06-.94L8.5 2.5l-.94 2.06-2.06.94zm10 10l.94 2.06.94-2.06 2.06-.94-2.06-.94-.94-2.06-.94 2.06-2.06.94z\"/><path d=\"M17.41 7.96l-1.37-1.37c-.4-.4-.92-.59-1.43-.59-.52 0-1.04.2-1.43.59L10.3 9.45l-7.72 7.72c-.78.78-.78 2.05 0 2.83L4 21.41c.39.39.9.59 1.41.59.51 0 1.02-.2 1.41-.59l7.78-7.78 2.81-2.81c.8-.78.8-2.07 0-2.86zM5.41 20L4 18.59l7.72-7.72 1.47 1.35L5.41 20z\"/>\n",
       "  </svg>\n",
       "      </button>\n",
       "      \n",
       "  <style>\n",
       "    .colab-df-container {\n",
       "      display:flex;\n",
       "      flex-wrap:wrap;\n",
       "      gap: 12px;\n",
       "    }\n",
       "\n",
       "    .colab-df-convert {\n",
       "      background-color: #E8F0FE;\n",
       "      border: none;\n",
       "      border-radius: 50%;\n",
       "      cursor: pointer;\n",
       "      display: none;\n",
       "      fill: #1967D2;\n",
       "      height: 32px;\n",
       "      padding: 0 0 0 0;\n",
       "      width: 32px;\n",
       "    }\n",
       "\n",
       "    .colab-df-convert:hover {\n",
       "      background-color: #E2EBFA;\n",
       "      box-shadow: 0px 1px 2px rgba(60, 64, 67, 0.3), 0px 1px 3px 1px rgba(60, 64, 67, 0.15);\n",
       "      fill: #174EA6;\n",
       "    }\n",
       "\n",
       "    [theme=dark] .colab-df-convert {\n",
       "      background-color: #3B4455;\n",
       "      fill: #D2E3FC;\n",
       "    }\n",
       "\n",
       "    [theme=dark] .colab-df-convert:hover {\n",
       "      background-color: #434B5C;\n",
       "      box-shadow: 0px 1px 3px 1px rgba(0, 0, 0, 0.15);\n",
       "      filter: drop-shadow(0px 1px 2px rgba(0, 0, 0, 0.3));\n",
       "      fill: #FFFFFF;\n",
       "    }\n",
       "  </style>\n",
       "\n",
       "      <script>\n",
       "        const buttonEl =\n",
       "          document.querySelector('#df-7e82a8dc-bf3f-4b91-8917-359f343427c4 button.colab-df-convert');\n",
       "        buttonEl.style.display =\n",
       "          google.colab.kernel.accessAllowed ? 'block' : 'none';\n",
       "\n",
       "        async function convertToInteractive(key) {\n",
       "          const element = document.querySelector('#df-7e82a8dc-bf3f-4b91-8917-359f343427c4');\n",
       "          const dataTable =\n",
       "            await google.colab.kernel.invokeFunction('convertToInteractive',\n",
       "                                                     [key], {});\n",
       "          if (!dataTable) return;\n",
       "\n",
       "          const docLinkHtml = 'Like what you see? Visit the ' +\n",
       "            '<a target=\"_blank\" href=https://colab.research.google.com/notebooks/data_table.ipynb>data table notebook</a>'\n",
       "            + ' to learn more about interactive tables.';\n",
       "          element.innerHTML = '';\n",
       "          dataTable['output_type'] = 'display_data';\n",
       "          await google.colab.output.renderOutput(dataTable, element);\n",
       "          const docLink = document.createElement('div');\n",
       "          docLink.innerHTML = docLinkHtml;\n",
       "          element.appendChild(docLink);\n",
       "        }\n",
       "      </script>\n",
       "    </div>\n",
       "  </div>\n",
       "  "
      ],
      "text/plain": [
       "       complexity\n",
       "count  887.000000\n",
       "mean     0.298403\n",
       "std      0.128126\n",
       "min      0.000000\n",
       "25%      0.214286\n",
       "50%      0.277778\n",
       "75%      0.360243\n",
       "max      0.777778"
      ]
     },
     "execution_count": 8,
     "metadata": {},
     "output_type": "execute_result"
    }
   ],
   "source": [
    "lcp_test.describe()"
   ]
  },
  {
   "cell_type": "markdown",
   "metadata": {
    "id": "PEFIGn22-iyG"
   },
   "source": [
    "# Tokenization and Sequecing"
   ]
  },
  {
   "cell_type": "markdown",
   "metadata": {
    "id": "Xf-BelmmCNDU"
   },
   "source": [
    "Sentnece Vriable"
   ]
  },
  {
   "cell_type": "code",
   "execution_count": 9,
   "metadata": {
    "id": "nFW-jnBN-gdr"
   },
   "outputs": [],
   "source": [
    "#here set the tokenizer limit to 10000, i.e., we will have a dictionary with top 10,000 words\n",
    "tokenizer = Tokenizer(num_words=10000)\n",
    "tokenizer.fit_on_texts(lcp_train['sentence'])\n",
    "sent_seq = tokenizer.texts_to_sequences(lcp_train['sentence'])\n",
    "max_seq_len = max(len(seq) for seq in sent_seq)\n",
    "sent_seq = pad_sequences(sent_seq, maxlen=max_seq_len) #padding the sequences to have uniform length\n"
   ]
  },
  {
   "cell_type": "markdown",
   "metadata": {
    "id": "0S_egdl8CTUY"
   },
   "source": [
    "Token Variable"
   ]
  },
  {
   "cell_type": "code",
   "execution_count": 10,
   "metadata": {
    "id": "KowHeDxZ-vht"
   },
   "outputs": [],
   "source": [
    "#getting sequeces for the tokens\n",
    "lcp_train.token=lcp_train.token.astype(str)\n",
    "token = tokenizer.texts_to_sequences(lcp_train['token'])\n",
    "max_word_len = max(len(w) for w in token)\n",
    "token = pad_sequences(token, maxlen=max_word_len) #padding the tokens to have uniform length"
   ]
  },
  {
   "cell_type": "markdown",
   "metadata": {
    "id": "MxdmaFggCrTQ"
   },
   "source": [
    "Corpus variable"
   ]
  },
  {
   "cell_type": "code",
   "execution_count": 11,
   "metadata": {
    "colab": {
     "base_uri": "https://localhost:8080/"
    },
    "id": "ekLFDqk2CqeC",
    "outputId": "4606c715-719e-422e-fce8-3d3c911afca7"
   },
   "outputs": [
    {
     "name": "stderr",
     "output_type": "stream",
     "text": [
      "/usr/local/lib/python3.10/dist-packages/sklearn/preprocessing/_encoders.py:868: FutureWarning: `sparse` was renamed to `sparse_output` in version 1.2 and will be removed in 1.4. `sparse_output` is ignored unless you leave `sparse` to its default value.\n",
      "  warnings.warn(\n"
     ]
    }
   ],
   "source": [
    "#converting it to one hot encoding as we have 3 sources, bible,biomed and europarl\n",
    "onehot_encoder = OneHotEncoder(sparse=False)\n",
    "corpus_encoded = onehot_encoder.fit_transform(lcp_train['corpus'].values.reshape(-1, 1)) "
   ]
  },
  {
   "cell_type": "code",
   "execution_count": 12,
   "metadata": {
    "colab": {
     "base_uri": "https://localhost:8080/"
    },
    "id": "uFHQg7PhQcPO",
    "outputId": "0a94cb47-45e9-41ac-e26e-61b18f277c81"
   },
   "outputs": [
    {
     "name": "stdout",
     "output_type": "stream",
     "text": [
      "[[1. 0. 0.]\n",
      " [1. 0. 0.]\n",
      " [1. 0. 0.]\n",
      " ...\n",
      " [0. 0. 1.]\n",
      " [0. 0. 1.]\n",
      " [0. 0. 1.]]\n"
     ]
    }
   ],
   "source": [
    "print(corpus_encoded)"
   ]
  },
  {
   "cell_type": "markdown",
   "metadata": {
    "id": "8bTt8zvPDMzA"
   },
   "source": [
    "The idea is to consider even corpus in input to the model."
   ]
  },
  {
   "cell_type": "markdown",
   "metadata": {
    "id": "qdoS7XrODVlG"
   },
   "source": [
    "\n",
    "#Splitting the data and Building a base stacked RNN model"
   ]
  },
  {
   "cell_type": "code",
   "execution_count": 27,
   "metadata": {
    "colab": {
     "base_uri": "https://localhost:8080/"
    },
    "id": "AOOWoDuOx0Q5",
    "outputId": "7032fc72-33c8-4658-ffc7-3b046b7a40f6"
   },
   "outputs": [
    {
     "name": "stdout",
     "output_type": "stream",
     "text": [
      "pre-procesing done\n",
      "Training Base Stacked RNN\n"
     ]
    }
   ],
   "source": [
    "print('pre-procesing done')\n",
    "print('Training Base Stacked RNN')"
   ]
  },
  {
   "cell_type": "code",
   "execution_count": 13,
   "metadata": {
    "id": "qomL5B_FDf8c"
   },
   "outputs": [],
   "source": [
    "train_seq, val_seq, train_tok, val_tok, train_corpus, val_corpus, train_y, val_y = train_test_split(\n",
    "    sent_seq, token, corpus_encoded, lcp_train['complexity'].values, test_size=0.2, random_state=42)\n",
    "#splitting into train and validation set"
   ]
  },
  {
   "cell_type": "code",
   "execution_count": 14,
   "metadata": {
    "id": "aJWt1omgL3fb"
   },
   "outputs": [],
   "source": [
    "#Initializing inputs\n",
    "input_seq = Input(shape=(max_seq_len,)) #shape to max length of sentence sequence\n",
    "input_token= Input(shape=(max_word_len,)) #shape to max length of tok sequence\n",
    "input_corpus = Input(shape=(3,)) # as we have 3 values\n",
    "#creating embeddings\n",
    "x_sent_seq = Embedding(input_dim=10000, output_dim=128, input_length=max_seq_len)(input_seq)\n",
    "x_tok = Embedding(input_dim=10000, output_dim=128, input_length=max_word_len)(input_token)\n",
    "#defining stacked LSTM layes with droput and batchnormalization\n",
    "x = LSTM(64, return_sequences=True)(x_sent_seq)\n",
    "x = LSTM(32, return_sequences=True)(x)\n",
    "x = LSTM(16)(x)\n",
    "x = BatchNormalization()(x)\n",
    "y = LSTM(64, return_sequences=True)(x_tok)\n",
    "y = LSTM(32, return_sequences=True)(y)\n",
    "y = LSTM(16)(y)\n",
    "y = BatchNormalization()(y)\n",
    "#merging the outputs from layers\n",
    "merged = concatenate([x, y, input_corpus])\n",
    "x = Dense(64, activation='relu')(merged)\n",
    "x = BatchNormalization()(x)\n",
    "x = Dropout(0.5)(x)\n",
    "x = Dense(32, activation='relu')(x)\n",
    "x = BatchNormalization()(x)\n",
    "x = Dropout(0.5)(x)\n",
    "#finally getting one output\n",
    "output = Dense(1, activation='sigmoid')(x)\n",
    "#building the model\n",
    "model = Model(inputs=[input_seq, input_token, input_corpus], outputs=output)\n"
   ]
  },
  {
   "cell_type": "code",
   "execution_count": 15,
   "metadata": {
    "colab": {
     "base_uri": "https://localhost:8080/"
    },
    "id": "hRglP3iFFrl7",
    "outputId": "ffec4961-a805-4933-ea26-774682138750"
   },
   "outputs": [
    {
     "name": "stdout",
     "output_type": "stream",
     "text": [
      "Model: \"model\"\n",
      "__________________________________________________________________________________________________\n",
      " Layer (type)                   Output Shape         Param #     Connected to                     \n",
      "==================================================================================================\n",
      " input_1 (InputLayer)           [(None, 662)]        0           []                               \n",
      "                                                                                                  \n",
      " input_2 (InputLayer)           [(None, 1)]          0           []                               \n",
      "                                                                                                  \n",
      " embedding (Embedding)          (None, 662, 128)     1280000     ['input_1[0][0]']                \n",
      "                                                                                                  \n",
      " embedding_1 (Embedding)        (None, 1, 128)       1280000     ['input_2[0][0]']                \n",
      "                                                                                                  \n",
      " lstm (LSTM)                    (None, 662, 64)      49408       ['embedding[0][0]']              \n",
      "                                                                                                  \n",
      " lstm_3 (LSTM)                  (None, 1, 64)        49408       ['embedding_1[0][0]']            \n",
      "                                                                                                  \n",
      " lstm_1 (LSTM)                  (None, 662, 32)      12416       ['lstm[0][0]']                   \n",
      "                                                                                                  \n",
      " lstm_4 (LSTM)                  (None, 1, 32)        12416       ['lstm_3[0][0]']                 \n",
      "                                                                                                  \n",
      " lstm_2 (LSTM)                  (None, 16)           3136        ['lstm_1[0][0]']                 \n",
      "                                                                                                  \n",
      " lstm_5 (LSTM)                  (None, 16)           3136        ['lstm_4[0][0]']                 \n",
      "                                                                                                  \n",
      " batch_normalization (BatchNorm  (None, 16)          64          ['lstm_2[0][0]']                 \n",
      " alization)                                                                                       \n",
      "                                                                                                  \n",
      " batch_normalization_1 (BatchNo  (None, 16)          64          ['lstm_5[0][0]']                 \n",
      " rmalization)                                                                                     \n",
      "                                                                                                  \n",
      " input_3 (InputLayer)           [(None, 3)]          0           []                               \n",
      "                                                                                                  \n",
      " concatenate (Concatenate)      (None, 35)           0           ['batch_normalization[0][0]',    \n",
      "                                                                  'batch_normalization_1[0][0]',  \n",
      "                                                                  'input_3[0][0]']                \n",
      "                                                                                                  \n",
      " dense (Dense)                  (None, 64)           2304        ['concatenate[0][0]']            \n",
      "                                                                                                  \n",
      " batch_normalization_2 (BatchNo  (None, 64)          256         ['dense[0][0]']                  \n",
      " rmalization)                                                                                     \n",
      "                                                                                                  \n",
      " dropout (Dropout)              (None, 64)           0           ['batch_normalization_2[0][0]']  \n",
      "                                                                                                  \n",
      " dense_1 (Dense)                (None, 32)           2080        ['dropout[0][0]']                \n",
      "                                                                                                  \n",
      " batch_normalization_3 (BatchNo  (None, 32)          128         ['dense_1[0][0]']                \n",
      " rmalization)                                                                                     \n",
      "                                                                                                  \n",
      " dropout_1 (Dropout)            (None, 32)           0           ['batch_normalization_3[0][0]']  \n",
      "                                                                                                  \n",
      " dense_2 (Dense)                (None, 1)            33          ['dropout_1[0][0]']              \n",
      "                                                                                                  \n",
      "==================================================================================================\n",
      "Total params: 2,694,849\n",
      "Trainable params: 2,694,593\n",
      "Non-trainable params: 256\n",
      "__________________________________________________________________________________________________\n"
     ]
    }
   ],
   "source": [
    "model.summary()"
   ]
  },
  {
   "cell_type": "code",
   "execution_count": 16,
   "metadata": {
    "colab": {
     "base_uri": "https://localhost:8080/",
     "height": 1000
    },
    "id": "c_r56ej3EB9p",
    "outputId": "9150451b-13ac-4a47-b0cd-9e0f8fd8a19a"
   },
   "outputs": [
    {
     "data": {
      "image/png": "[encoded data removed]",
      "text/plain": [
       "<IPython.core.display.Image object>"
      ]
     },
     "execution_count": 16,
     "metadata": {},
     "output_type": "execute_result"
    }
   ],
   "source": [
    "from tensorflow.keras.utils import  plot_model\n",
    "from tensorflow.keras.callbacks import ModelCheckpoint, EarlyStopping\n",
    "plot_model(model,show_shapes=True)"
   ]
  },
  {
   "cell_type": "code",
   "execution_count": 17,
   "metadata": {
    "id": "Bk3WEtY4GAXI"
   },
   "outputs": [],
   "source": [
    "model.compile(loss=mean_absolute_error, optimizer='adam',metrics='accuracy')"
   ]
  },
  {
   "cell_type": "code",
   "execution_count": 18,
   "metadata": {
    "colab": {
     "base_uri": "https://localhost:8080/"
    },
    "id": "g-Bx_N7wGWF5",
    "outputId": "a60ae7b6-1c6a-4d83-e0cc-47520234efef"
   },
   "outputs": [
    {
     "name": "stdout",
     "output_type": "stream",
     "text": [
      "Epoch 1/10\n",
      "181/181 [==============================] - 75s 285ms/step - loss: 0.2419 - accuracy: 0.0010 - val_loss: 0.1369 - val_accuracy: 0.0028\n",
      "Epoch 2/10\n",
      "181/181 [==============================] - 21s 116ms/step - loss: 0.1610 - accuracy: 0.0022 - val_loss: 0.1076 - val_accuracy: 0.0028\n",
      "Epoch 3/10\n",
      "181/181 [==============================] - 19s 104ms/step - loss: 0.1317 - accuracy: 0.0021 - val_loss: 0.1062 - val_accuracy: 0.0028\n",
      "Epoch 4/10\n",
      "181/181 [==============================] - 17s 94ms/step - loss: 0.1104 - accuracy: 0.0022 - val_loss: 0.1033 - val_accuracy: 0.0028\n",
      "Epoch 5/10\n",
      "181/181 [==============================] - 14s 80ms/step - loss: 0.0943 - accuracy: 0.0022 - val_loss: 0.0880 - val_accuracy: 0.0028\n",
      "Epoch 6/10\n",
      "181/181 [==============================] - 14s 79ms/step - loss: 0.0841 - accuracy: 0.0022 - val_loss: 0.0817 - val_accuracy: 0.0028\n",
      "Epoch 7/10\n",
      "181/181 [==============================] - 15s 84ms/step - loss: 0.0762 - accuracy: 0.0022 - val_loss: 0.0796 - val_accuracy: 0.0028\n",
      "Epoch 8/10\n",
      "181/181 [==============================] - 14s 78ms/step - loss: 0.0699 - accuracy: 0.0022 - val_loss: 0.0772 - val_accuracy: 0.0028\n",
      "Epoch 9/10\n",
      "181/181 [==============================] - 14s 77ms/step - loss: 0.0664 - accuracy: 0.0022 - val_loss: 0.0778 - val_accuracy: 0.0028\n",
      "Epoch 10/10\n",
      "181/181 [==============================] - 13s 74ms/step - loss: 0.0641 - accuracy: 0.0022 - val_loss: 0.0780 - val_accuracy: 0.0028\n"
     ]
    }
   ],
   "source": [
    "history = model.fit([train_seq, train_tok, train_corpus], train_y, epochs=10, batch_size=32, validation_data=([val_seq, val_tok, val_corpus], val_y))\n",
    "model.save(\"Stack_RNN.h5\")"
   ]
  },
  {
   "cell_type": "code",
   "execution_count": 19,
   "metadata": {
    "colab": {
     "base_uri": "https://localhost:8080/"
    },
    "id": "ylnVIS-EPoX2",
    "outputId": "05a4a3e1-090f-41ba-a12d-16e0ed252fb7"
   },
   "outputs": [
    {
     "name": "stdout",
     "output_type": "stream",
     "text": [
      "dict_keys(['loss', 'accuracy', 'val_loss', 'val_accuracy'])\n"
     ]
    }
   ],
   "source": [
    "print(history.history.keys())"
   ]
  },
  {
   "cell_type": "code",
   "execution_count": 20,
   "metadata": {
    "colab": {
     "base_uri": "https://localhost:8080/",
     "height": 453
    },
    "id": "lAiIb61eP20C",
    "outputId": "41b4a245-60d7-42fe-fad5-cd422855ebd2"
   },
   "outputs": [
    {
     "data": {
      "image/png": "[encoded data removed]",
      "text/plain": [
       "<Figure size 640x480 with 1 Axes>"
      ]
     },
     "metadata": {},
     "output_type": "display_data"
    }
   ],
   "source": [
    "# Plot the loss curve with best hp and val loss\n",
    "import matplotlib.pyplot as plt\n",
    "%matplotlib inline\n",
    "epochs=range(10)\n",
    "train_acc=history.history['loss']\n",
    "valid_acc = history.history['val_loss']\n",
    "plt.plot(epochs,train_acc,'bo',label='Training loss')\n",
    "plt.plot(epochs,valid_acc,'r',label='Validation loss')\n",
    "plt.xlabel('Epochs')\n",
    "plt.ylabel('loss')\n",
    "plt.legend()\n",
    "plt.show()"
   ]
  },
  {
   "cell_type": "markdown",
   "metadata": {
    "id": "QYZPVJkYQsoj"
   },
   "source": [
    "# Tuning the stacked RNN model"
   ]
  },
  {
   "cell_type": "code",
   "execution_count": null,
   "metadata": {
    "id": "Lsm6WtLUyBL-"
   },
   "outputs": [],
   "source": [
    "print('Base model trained')\n",
    "print('Tuning Hyper parameters using keras tuner')"
   ]
  },
  {
   "cell_type": "code",
   "execution_count": 23,
   "metadata": {
    "id": "ImCfuECNRKAt"
   },
   "outputs": [],
   "source": [
    "#ref : https://keras.io/keras_tuner/\n",
    "#fuction to tune the hyper parameters - selected three things to tune 1.Optimizer 2. learning rate 3.Dropout Rate\n",
    "def tuning(hp):\n",
    "  input_seq = Input(shape=(max_seq_len,)) \n",
    "  input_token= Input(shape=(max_word_len,))\n",
    "  input_corpus = Input(shape=(3,)) # as we have 3 values\n",
    "\n",
    "  x_sent_seq = Embedding(input_dim=10000, output_dim=128, input_length=max_seq_len)(input_seq)\n",
    "  x_tok = Embedding(input_dim=10000, output_dim=128, input_length=max_word_len)(input_token)\n",
    "\n",
    "  x = LSTM(64, return_sequences=True)(x_sent_seq)\n",
    "  x = LSTM(32, return_sequences=True)(x)\n",
    "  x = LSTM(16)(x)\n",
    "  x = BatchNormalization()(x)\n",
    "\n",
    "  y = LSTM(64, return_sequences=True)(x_tok)\n",
    "  y = LSTM(32, return_sequences=True)(y)\n",
    "  y = LSTM(16)(y)\n",
    "  y = BatchNormalization()(y)\n",
    "\n",
    "  merged = concatenate([x, y, input_corpus])\n",
    "\n",
    "  x = Dense(64, activation='relu')(merged)\n",
    "  x = BatchNormalization()(x)\n",
    "  x = Dropout(hp.Choice(name='dropout',values=[0.2,0.5,0.7]))(x)\n",
    "\n",
    "  x = Dense(32, activation='relu')(x)\n",
    "  x = BatchNormalization()(x)\n",
    "  x = Dropout(hp.Choice(name='dropout',values=[0.2,0.5,0.7]))(x)\n",
    "\n",
    "  output = Dense(1, activation='sigmoid')(x)\n",
    "\n",
    "  model = Model(inputs=[input_seq, input_token, input_corpus], outputs=output)\n",
    "\n",
    "  \n",
    "  optimizer = hp.Choice('optimizer', values=['adam', 'rmsprop'])\n",
    "  if optimizer == 'adam':\n",
    "    optimizer = tensorflow.keras.optimizers.Adam(hp.Choice('learning_rate', values=[1e-2, 1e-3, 1e-4]))\n",
    "  else:\n",
    "    optimizer = tensorflow.keras.optimizers.RMSprop(hp.Choice('learning_rate', values=[1e-2, 1e-3, 1e-4]))\n",
    "\n",
    "  model.compile(optimizer=optimizer,\n",
    "                  loss='mean_absolute_error',\n",
    "                  metrics=['accuracy'])\n",
    "  return model\n",
    "\n"
   ]
  },
  {
   "cell_type": "code",
   "execution_count": 24,
   "metadata": {
    "id": "C8k8GEW-UmXC"
   },
   "outputs": [],
   "source": [
    "tuner = kt.RandomSearch(\n",
    "    tuning,\n",
    "    objective='val_loss')"
   ]
  },
  {
   "cell_type": "code",
   "execution_count": 67,
   "metadata": {
    "colab": {
     "base_uri": "https://localhost:8080/"
    },
    "id": "mOftipV8VNcD",
    "outputId": "c3f0e871-6f7d-4a79-c7cc-8999890b6fb6"
   },
   "outputs": [
    {
     "name": "stdout",
     "output_type": "stream",
     "text": [
      "Trial 10 Complete [00h 02m 07s]\n",
      "val_loss: 0.12010029703378677\n",
      "\n",
      "Best val_loss So Far: 0.07614786177873611\n",
      "Total elapsed time: 00h 28m 47s\n"
     ]
    }
   ],
   "source": [
    "stop_early = tensorflow.keras.callbacks.EarlyStopping(monitor='val_loss', patience=5)\n",
    "# Perform hypertuning\n",
    "tuner.search([train_seq, train_tok, train_corpus], train_y, epochs=30,batch_size=64,validation_data=([val_seq, val_tok, val_corpus], val_y),callbacks=[stop_early])\n",
    "best_hp=tuner.get_best_hyperparameters()[0]"
   ]
  },
  {
   "cell_type": "code",
   "execution_count": 69,
   "metadata": {
    "colab": {
     "base_uri": "https://localhost:8080/"
    },
    "id": "AV_R8RkNV-u6",
    "outputId": "7d62cda8-924b-4957-fef7-1fb94baef840"
   },
   "outputs": [
    {
     "name": "stdout",
     "output_type": "stream",
     "text": [
      "Best Learning Rate:  0.01\n",
      "Best Optimizer : rmsprop\n",
      "Best Dropout Rate:  0.5\n"
     ]
    }
   ],
   "source": [
    "print('Best Learning Rate: ',best_hp.get('learning_rate'))\n",
    "print('Best Optimizer :',best_hp.get('optimizer'))\n",
    "print('Best Dropout Rate: ',best_hp.get('dropout'))\n"
   ]
  },
  {
   "cell_type": "markdown",
   "metadata": {
    "id": "LhGw6cNvdu7g"
   },
   "source": [
    "# Re-training on the whole training set with tuned parameters"
   ]
  },
  {
   "cell_type": "code",
   "execution_count": 28,
   "metadata": {
    "colab": {
     "base_uri": "https://localhost:8080/"
    },
    "id": "Gp-nHFBbyMLL",
    "outputId": "752b9a68-da01-4ff1-91a7-6a9ab39f9c96"
   },
   "outputs": [
    {
     "name": "stdout",
     "output_type": "stream",
     "text": [
      "Retraining using whole training dataset with best params\n"
     ]
    }
   ],
   "source": [
    "print('Retraining using whole training dataset with best params')"
   ]
  },
  {
   "cell_type": "code",
   "execution_count": 25,
   "metadata": {
    "id": "0J_Bo4nsd2cc"
   },
   "outputs": [],
   "source": [
    "model.compile(loss=mean_absolute_error, optimizer=tensorflow.optimizers.RMSprop(learning_rate=0.01),metrics='accuracy')"
   ]
  },
  {
   "cell_type": "code",
   "execution_count": 26,
   "metadata": {
    "colab": {
     "base_uri": "https://localhost:8080/"
    },
    "id": "088tKksgeSKC",
    "outputId": "4cbcb03f-dffe-4f49-d57e-c959ed5047fd"
   },
   "outputs": [
    {
     "name": "stdout",
     "output_type": "stream",
     "text": [
      "Epoch 1/30\n",
      "226/226 [==============================] - 43s 142ms/step - loss: 0.0739 - accuracy: 0.0024\n",
      "Epoch 2/30\n",
      "226/226 [==============================] - 20s 88ms/step - loss: 0.0703 - accuracy: 0.0024\n",
      "Epoch 3/30\n",
      "226/226 [==============================] - 17s 77ms/step - loss: 0.0667 - accuracy: 0.0024\n",
      "Epoch 4/30\n",
      "226/226 [==============================] - 16s 69ms/step - loss: 0.0647 - accuracy: 0.0024\n",
      "Epoch 5/30\n",
      "226/226 [==============================] - 15s 66ms/step - loss: 0.0642 - accuracy: 0.0024\n",
      "Epoch 6/30\n",
      "226/226 [==============================] - 14s 61ms/step - loss: 0.0630 - accuracy: 0.0024\n",
      "Epoch 7/30\n",
      "226/226 [==============================] - 14s 62ms/step - loss: 0.0619 - accuracy: 0.0024\n",
      "Epoch 8/30\n",
      "226/226 [==============================] - 14s 63ms/step - loss: 0.0614 - accuracy: 0.0024\n",
      "Epoch 9/30\n",
      "226/226 [==============================] - 14s 64ms/step - loss: 0.0604 - accuracy: 0.0024\n",
      "Epoch 10/30\n",
      "226/226 [==============================] - 14s 63ms/step - loss: 0.0586 - accuracy: 0.0024\n",
      "Epoch 11/30\n",
      "226/226 [==============================] - 13s 60ms/step - loss: 0.0582 - accuracy: 0.0024\n",
      "Epoch 12/30\n",
      "226/226 [==============================] - 14s 60ms/step - loss: 0.0577 - accuracy: 0.0024\n",
      "Epoch 13/30\n",
      "226/226 [==============================] - 14s 61ms/step - loss: 0.0556 - accuracy: 0.0024\n",
      "Epoch 14/30\n",
      "226/226 [==============================] - 14s 60ms/step - loss: 0.0543 - accuracy: 0.0024\n",
      "Epoch 15/30\n",
      "226/226 [==============================] - 14s 61ms/step - loss: 0.0545 - accuracy: 0.0024\n",
      "Epoch 16/30\n",
      "226/226 [==============================] - 14s 62ms/step - loss: 0.0538 - accuracy: 0.0024\n",
      "Epoch 17/30\n",
      "226/226 [==============================] - 14s 61ms/step - loss: 0.0525 - accuracy: 0.0024\n",
      "Epoch 18/30\n",
      "226/226 [==============================] - 13s 59ms/step - loss: 0.0512 - accuracy: 0.0024\n",
      "Epoch 19/30\n",
      "226/226 [==============================] - 14s 60ms/step - loss: 0.0508 - accuracy: 0.0024\n",
      "Epoch 20/30\n",
      "226/226 [==============================] - 13s 58ms/step - loss: 0.0486 - accuracy: 0.0024\n",
      "Epoch 21/30\n",
      "226/226 [==============================] - 13s 60ms/step - loss: 0.0484 - accuracy: 0.0024\n",
      "Epoch 22/30\n",
      "226/226 [==============================] - 13s 58ms/step - loss: 0.0477 - accuracy: 0.0024\n",
      "Epoch 23/30\n",
      "226/226 [==============================] - 13s 59ms/step - loss: 0.0471 - accuracy: 0.0024\n",
      "Epoch 24/30\n",
      "226/226 [==============================] - 13s 59ms/step - loss: 0.0465 - accuracy: 0.0024\n",
      "Epoch 25/30\n",
      "226/226 [==============================] - 13s 58ms/step - loss: 0.0449 - accuracy: 0.0024\n",
      "Epoch 26/30\n",
      "226/226 [==============================] - 13s 59ms/step - loss: 0.0447 - accuracy: 0.0024\n",
      "Epoch 27/30\n",
      "226/226 [==============================] - 13s 58ms/step - loss: 0.0446 - accuracy: 0.0024\n",
      "Epoch 28/30\n",
      "226/226 [==============================] - 13s 57ms/step - loss: 0.0444 - accuracy: 0.0024\n",
      "Epoch 29/30\n",
      "226/226 [==============================] - 13s 58ms/step - loss: 0.0443 - accuracy: 0.0024\n",
      "Epoch 30/30\n",
      "226/226 [==============================] - 13s 59ms/step - loss: 0.0434 - accuracy: 0.0024\n"
     ]
    }
   ],
   "source": [
    "history = model.fit([sent_seq, token, corpus_encoded], lcp_train['complexity'].values, epochs=30, batch_size=32)\n",
    "model.save(\"Tuned_Stack_RNN.h5\")"
   ]
  },
  {
   "cell_type": "code",
   "execution_count": 29,
   "metadata": {
    "colab": {
     "base_uri": "https://localhost:8080/"
    },
    "id": "4EjwNyaosOO5",
    "outputId": "eb53e8ad-3810-4d34-8a08-f5200f506fba"
   },
   "outputs": [
    {
     "name": "stdout",
     "output_type": "stream",
     "text": [
      "Tuned model trained\n"
     ]
    }
   ],
   "source": [
    "print('Tuned model trained')"
   ]
  }
 ],
 "metadata": {
  "accelerator": "GPU",
  "colab": {
   "provenance": []
  },
  "gpuClass": "standard",
  "kernelspec": {
   "display_name": "Python 3 (ipykernel)",
   "language": "python",
   "name": "python3"
  },
  "language_info": {
   "codemirror_mode": {
    "name": "ipython",
    "version": 3
   },
   "file_extension": ".py",
   "mimetype": "text/x-python",
   "name": "python",
   "nbconvert_exporter": "python",
   "pygments_lexer": "ipython3",
   "version": "3.10.8"
  }
 },
 "nbformat": 4,
 "nbformat_minor": 1
}
